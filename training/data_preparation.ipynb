{
 "cells": [
  {
   "cell_type": "markdown",
   "id": "e02578bc",
   "metadata": {
    "collapsed": true,
    "jupyter": {
     "outputs_hidden": true
    }
   },
   "source": [
    "# Load dataset"
   ]
  },
  {
   "cell_type": "code",
   "execution_count": 29,
   "id": "42ff7a79",
   "metadata": {},
   "outputs": [
    {
     "name": "stdout",
     "output_type": "stream",
     "text": [
      "5479\n"
     ]
    }
   ],
   "source": [
    "from glob import glob\n",
    "import os\n",
    "import json \n",
    "\n",
    "path = '../data/extended_esc_70b.json'\n",
    "\n",
    "with open(path, 'r') as f:\n",
    "    data = json.load(f)\n",
    "        \n",
    "\n",
    "print(len(data))"
   ]
  },
  {
   "cell_type": "code",
   "execution_count": 30,
   "id": "ff415f56",
   "metadata": {},
   "outputs": [
    {
     "name": "stdout",
     "output_type": "stream",
     "text": [
      "5\n"
     ]
    }
   ],
   "source": [
    "lens = [len(x['dialog']) for x in data]\n",
    "\n",
    "print(min(lens))\n",
    "\n",
    "min_dialog_turns = min(lens)\n",
    "    "
   ]
  },
  {
   "cell_type": "markdown",
   "id": "d50b74d4",
   "metadata": {},
   "source": [
    "# Process conversations and add an id to them"
   ]
  },
  {
   "cell_type": "code",
   "execution_count": 31,
   "id": "da8b6069",
   "metadata": {},
   "outputs": [],
   "source": [
    "from uuid import uuid4\n",
    "\n",
    "conv_ids = {}\n",
    "\n",
    "for ex in data:\n",
    "    conv_str = '_'.join(ex['dialog'][:min_dialog_turns])\n",
    "    if conv_str not in conv_ids:\n",
    "        conv_ids[conv_str] = str(uuid4())\n",
    "        \n",
    "    ex['id'] = conv_ids[conv_str]"
   ]
  },
  {
   "cell_type": "code",
   "execution_count": 32,
   "id": "d9cdf124",
   "metadata": {},
   "outputs": [
    {
     "name": "stdout",
     "output_type": "stream",
     "text": [
      "total conversations: 1288\n"
     ]
    }
   ],
   "source": [
    "print(\"total conversations:\", len(conv_ids))"
   ]
  },
  {
   "cell_type": "markdown",
   "id": "e24d1df4",
   "metadata": {},
   "source": [
    "# split across conversations for training and test"
   ]
  },
  {
   "cell_type": "code",
   "execution_count": 6,
   "id": "932cda1e",
   "metadata": {},
   "outputs": [
    {
     "name": "stdout",
     "output_type": "stream",
     "text": [
      "training size:  8264\n",
      "validation size:  354\n",
      "test size:  736\n"
     ]
    }
   ],
   "source": [
    "import numpy as np\n",
    "\n",
    "all_ids = list(conv_ids.values())\n",
    "np.random.shuffle(all_ids)\n",
    "\n",
    "val_size = 50\n",
    "test_size = 100\n",
    "\n",
    "test_ids = all_ids[:test_size]\n",
    "val_ids = all_ids[test_size:test_size+val_size]\n",
    "train_ids = all_ids[test_size+val_size:]\n",
    "\n",
    "train = [d for d in data if d['id'] in train_ids]\n",
    "val = [d for d in data if d['id'] in val_ids]\n",
    "test = [d for d in data if d['id'] in test_ids]\n",
    "\n",
    "print(\"training size: \", len(train))\n",
    "print(\"validation size: \", len(val))\n",
    "print(\"test size: \", len(test))"
   ]
  },
  {
   "cell_type": "code",
   "execution_count": 43,
   "id": "dd570e45",
   "metadata": {},
   "outputs": [],
   "source": [
    "import json\n",
    "\n",
    "def write_jsonl(path, data):\n",
    "    with open(path, 'w') as f:\n",
    "        for ex in data:\n",
    "            f.write(json.dumps(ex) + \"\\n\")\n",
    "            \n",
    "            \n",
    "write_jsonl('data/train.json', train)\n",
    "write_jsonl('data/dev.json', val)\n",
    "write_jsonl('data/test.json', test)"
   ]
  },
  {
   "cell_type": "code",
   "execution_count": 7,
   "id": "2473cead-cb38-4af5-a754-1ade517f8fbc",
   "metadata": {},
   "outputs": [
    {
     "data": {
      "text/plain": [
       "{'dialog': ['Hello\\n',\n",
       "  'Hello, what would you like to talk about?',\n",
       "  'I am having a lot of anxiety about quitting my current job. It is too stressful but pays well\\n',\n",
       "  'What makes your job stressful for you?',\n",
       "  'I have to deal with many people in hard financial situations and it is upsetting \\n'],\n",
       " 'situation': 'I hate my job but I am scared to quit and seek a new career.',\n",
       " 'speakers': ['seeker', 'supporter', 'seeker', 'supporter', 'seeker'],\n",
       " 'responses': {'Affirmation': 'you have shown incredible strength and resilience in facing the challenges of your current job and the anxiety it brings. your dedication to improving your situation is truly commendable, and i admire your hopefulness in tough times. it takes a lot of courage to consider quitting a well-paying job, and your willingness to take that risk is a testament to your determination to find a career that brings you fulfillment and happiness.',\n",
       "  'Clarification': \"i understand that you're feeling anxious about your job and the financial situation. it sounds like you're struggling with the stress and emotional toll of your current role, and the fear of seeking a new career. can you tell me more about what specifically is causing you to feel this way? for example, are there any particular tasks or responsibilities that are causing you stress, or is it more the overall work environment?\",\n",
       "  'Collaborative Planning': \"let's work together to come up with a plan that addresses your stress and financial concerns. what are some specific steps you can take to manage your stress and potentially find a new career that is less stressful and more fulfilling? how about we start by brainstorming some strategies that could help you manage your stress, and then we can outline some steps you can take to approach this problem?\",\n",
       "  'Suggest Options': \"it sounds like you're facing a tough decision about your job, and it's understandable that you're feeling anxious about it. one option might be to explore other career opportunities that align with your values and interests, but also offer a more manageable workload and less stress. you could also consider talking to a career counselor or a trusted friend or family member about your situation and get their perspective. additionally, you might want to try some stress-reducing techniques such as meditation, exercise, or deep breathing to help you cope with the stress of your current job.\",\n",
       "  'Chit Chat': \"oh my goodness, it sounds like you're going through a tough time with your job. it's completely understandable to feel overwhelmed and anxious when you're in a situation that's not fulfilling and financially straining. can i offer you a virtual hug? 🤗 sometimes just talking about our struggles can help us feel a little better. what do you think?\"},\n",
       " 'prompts': {'Affirmation': '<s>[INST] <<SYS>>\\nconversation history:\\nuser: Hello\\nassistant: Hello, what would you like to talk about?\\nuser: I am having a lot of anxiety about quitting my current job. It is too stressful but pays well\\nassistant: What makes your job stressful for you?\\n\\nYou are a helpful and caring friend. Your best friend has come to you with the following situation: \"I hate my job but I am scared to quit and seek a new career.\". continue the conversation for one turn using \"Affirmation\" strategy (Description: This involves acknowledging and positively reinforcing an individual\\'s strengths, feelings, or actions. Examples: \\'You\\'ve shown incredible resilience in facing these challenges.\\' \\'I admire your dedication to improving your situation.\\' \\'Your ability to stay hopeful in tough times is truly commendable.\\') make your response short and to the point. Do not provide additional info. only respond in one paragraph that satisfies Affirmation strategy. answer in this format: assistant: <response>\\n<</SYS>>\\n\\nI have to deal with many people in hard financial situations and it is upsetting [/INST]',\n",
       "  'Clarification': '<s>[INST] <<SYS>>\\nconversation history:\\nuser: Hello\\nassistant: Hello, what would you like to talk about?\\nuser: I am having a lot of anxiety about quitting my current job. It is too stressful but pays well\\nassistant: What makes your job stressful for you?\\n\\nYou are a helpful and caring friend. Your best friend has come to you with the following situation: \"I hate my job but I am scared to quit and seek a new career.\". continue the conversation for one turn using \"Clarification\" strategy (Description: This entails asking questions or restating what was said to ensure clear understanding of the person\\'s feelings or situation. Examples: \\'Could you explain a bit more about what you mean by that?\\' \\'So, what you\\'re saying is that you feel overwhelmed by the workload?\\' \\'I want to make sure I understand; you\\'re feeling anxious about the upcoming event, right?\\') make your response short and to the point. Do not provide additional info. only respond in one paragraph that satisfies Clarification strategy. answer in this format: assistant: <response>\\n<</SYS>>\\n\\nI have to deal with many people in hard financial situations and it is upsetting [/INST]',\n",
       "  'Collaborative Planning': '<s>[INST] <<SYS>>\\nconversation history:\\nuser: Hello\\nassistant: Hello, what would you like to talk about?\\nuser: I am having a lot of anxiety about quitting my current job. It is too stressful but pays well\\nassistant: What makes your job stressful for you?\\n\\nYou are a helpful and caring friend. Your best friend has come to you with the following situation: \"I hate my job but I am scared to quit and seek a new career.\". continue the conversation for one turn using \"Collaborative Planning\" strategy (Description: This involves working together to develop strategies or plans to address specific issues or challenges. Examples: \\'Let\\'s brainstorm some strategies that could help you manage this stress.\\' \\'We can work together to come up with a plan that feels comfortable for you.\\' \\'How about we outline some steps you can take to approach this problem?\\') make your response short and to the point. Do not provide additional info. only respond in one paragraph that satisfies Collaborative Planning strategy. answer in this format: assistant: <response>\\n<</SYS>>\\n\\nI have to deal with many people in hard financial situations and it is upsetting [/INST]',\n",
       "  'Suggest Options': '<s>[INST] <<SYS>>\\nconversation history:\\nuser: Hello\\nassistant: Hello, what would you like to talk about?\\nuser: I am having a lot of anxiety about quitting my current job. It is too stressful but pays well\\nassistant: What makes your job stressful for you?\\n\\nYou are a helpful and caring friend. Your best friend has come to you with the following situation: \"I hate my job but I am scared to quit and seek a new career.\". continue the conversation for one turn using \"Suggest Options\" strategy (Description: Presenting various possibilities or alternatives that the person might consider in their situation. Examples: \\'One option might be to talk to someone you trust about what you\\'re going through.\\' \\'Have you thought about joining a support group for this issue?\\' \\'Maybe trying a new approach to this problem could yield different results.\\') make your response short and to the point. Do not provide additional info. only respond in one paragraph that satisfies Suggest Options strategy. answer in this format: assistant: <response>\\n<</SYS>>\\n\\nI have to deal with many people in hard financial situations and it is upsetting [/INST]',\n",
       "  'Chit Chat': '<s>[INST] <<SYS>>\\nconversation history:\\nuser: Hello\\nassistant: Hello, what would you like to talk about?\\nuser: I am having a lot of anxiety about quitting my current job. It is too stressful but pays well\\nassistant: What makes your job stressful for you?\\n\\nYou are a helpful and caring friend. Your best friend has come to you with the following situation: \"I hate my job but I am scared to quit and seek a new career.\". continue the conversation for one turn using \"Chit Chat\" strategy (Description: Engaging in light, casual conversation to build rapport and provide a sense of normalcy and comfort. Examples: \\'How\\'s your day going so far?\\' \\'Did you see that funny movie that came out recently?\\' \\'I love this weather we\\'re having. Do you enjoy outdoor activities?\\') make your response short and to the point. Do not provide additional info. only respond in one paragraph that satisfies Chit Chat strategy. answer in this format: assistant: <response>\\n<</SYS>>\\n\\nI have to deal with many people in hard financial situations and it is upsetting [/INST]'},\n",
       " 'id': 'a5a55fd9-740a-428a-97db-4531114d6030'}"
      ]
     },
     "execution_count": 7,
     "metadata": {},
     "output_type": "execute_result"
    }
   ],
   "source": [
    "train[0]"
   ]
  },
  {
   "cell_type": "markdown",
   "id": "e9f67618-08df-4b09-84bb-9da66d9a42b3",
   "metadata": {},
   "source": [
    "# Get statistics of the data"
   ]
  },
  {
   "cell_type": "code",
   "execution_count": 33,
   "id": "b8d91184-0826-40ce-9aec-6d03f43a7d90",
   "metadata": {},
   "outputs": [
    {
     "name": "stdout",
     "output_type": "stream",
     "text": [
      "average dialog len:  11.01058587333455\n",
      "min dialog len:  5\n",
      "max dialog len:  19\n",
      "number of examples:  5479\n",
      "[('Reflective Statements', 1718), ('Promote Self-Care Practices', 1710), ('Collaborative Planning', 1688), ('Stress Management', 1669), ('Share Information', 1662), ('Affirmation', 1656), ('Offer Hope', 1651), ('Normalize Experiences', 1643), ('Clarification', 1641), ('Avoid Judgment and Criticism', 1635), ('Provide Different Perspectives', 1623), ('Reframe Negative Thoughts', 1623), ('Emotional Validation', 1619), ('Suggest Options', 1612), ('Chit Chat', 1610)]\n",
      "24760\n"
     ]
    }
   ],
   "source": [
    "import numpy as np\n",
    "from collections import Counter\n",
    "\n",
    "\n",
    "def get_statistics(ds):\n",
    "    dlens = [len(x['dialog']) for x in ds]\n",
    "    print(\"average dialog len: \", np.mean(dlens))\n",
    "    print(\"min dialog len: \", np.min(dlens))\n",
    "    print(\"max dialog len: \", np.max(dlens))\n",
    "\n",
    "    print(\"number of examples: \", len(ds))\n",
    "\n",
    "    scnt = Counter()\n",
    "    all_cnt = 0\n",
    "    for x in ds:\n",
    "        scnt.update(list(x['responses'].keys()))\n",
    "        all_cnt += len(list(x['responses'].keys()))\n",
    "    print(scnt.most_common(20))\n",
    "    print(all_cnt)\n",
    "        \n",
    "    \n",
    "\n",
    "get_statistics(data)"
   ]
  },
  {
   "cell_type": "code",
   "execution_count": null,
   "id": "17b3eea7-fe7e-45cc-8fe1-12d60ab7070a",
   "metadata": {},
   "outputs": [],
   "source": []
  }
 ],
 "metadata": {
  "kernelspec": {
   "display_name": "Python 3 (ipykernel)",
   "language": "python",
   "name": "python3"
  },
  "language_info": {
   "codemirror_mode": {
    "name": "ipython",
    "version": 3
   },
   "file_extension": ".py",
   "mimetype": "text/x-python",
   "name": "python",
   "nbconvert_exporter": "python",
   "pygments_lexer": "ipython3",
   "version": "3.10.14"
  },
  "toc": {
   "base_numbering": 1,
   "nav_menu": {},
   "number_sections": true,
   "sideBar": true,
   "skip_h1_title": false,
   "title_cell": "Table of Contents",
   "title_sidebar": "Contents",
   "toc_cell": false,
   "toc_position": {},
   "toc_section_display": true,
   "toc_window_display": false
  }
 },
 "nbformat": 4,
 "nbformat_minor": 5
}
