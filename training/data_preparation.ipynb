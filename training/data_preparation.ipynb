{
 "cells": [
  {
   "cell_type": "markdown",
   "id": "e02578bc",
   "metadata": {
    "collapsed": true,
    "jupyter": {
     "outputs_hidden": true
    }
   },
   "source": [
    "# Load dataset"
   ]
  },
  {
   "cell_type": "code",
   "execution_count": 6,
   "id": "42ff7a79",
   "metadata": {},
   "outputs": [
    {
     "name": "stdout",
     "output_type": "stream",
     "text": [
      "4657\n"
     ]
    }
   ],
   "source": [
    "from glob import glob\n",
    "import os\n",
    "import json \n",
    "\n",
    "path = './data/extended_esc_llama31.json'\n",
    "\n",
    "data = []\n",
    "with open(path, 'r') as f:\n",
    "    for line in f:\n",
    "        data.append(json.loads(line))\n",
    "        \n",
    "\n",
    "print(len(data))"
   ]
  },
  {
   "cell_type": "code",
   "execution_count": 7,
   "id": "ff415f56",
   "metadata": {},
   "outputs": [
    {
     "name": "stdout",
     "output_type": "stream",
     "text": [
      "5\n"
     ]
    }
   ],
   "source": [
    "lens = [len(x['dialog']) for x in data]\n",
    "\n",
    "print(min(lens))\n",
    "\n",
    "min_dialog_turns = min(lens)\n",
    "    "
   ]
  },
  {
   "cell_type": "markdown",
   "id": "d50b74d4",
   "metadata": {},
   "source": [
    "# Process conversations and add an id to them"
   ]
  },
  {
   "cell_type": "code",
   "execution_count": 8,
   "id": "da8b6069",
   "metadata": {},
   "outputs": [],
   "source": [
    "from uuid import uuid4\n",
    "\n",
    "conv_ids = {}\n",
    "\n",
    "for ex in data:\n",
    "    conv_str = '_'.join(ex['dialog'][:min_dialog_turns])\n",
    "    if conv_str not in conv_ids:\n",
    "        conv_ids[conv_str] = str(uuid4())\n",
    "        \n",
    "    ex['id'] = conv_ids[conv_str]"
   ]
  },
  {
   "cell_type": "code",
   "execution_count": 9,
   "id": "d9cdf124",
   "metadata": {},
   "outputs": [
    {
     "name": "stdout",
     "output_type": "stream",
     "text": [
      "total conversations: 1019\n"
     ]
    }
   ],
   "source": [
    "print(\"total conversations:\", len(conv_ids))"
   ]
  },
  {
   "cell_type": "markdown",
   "id": "e24d1df4",
   "metadata": {},
   "source": [
    "# split across conversations for training and test"
   ]
  },
  {
   "cell_type": "code",
   "execution_count": 14,
   "id": "932cda1e",
   "metadata": {},
   "outputs": [
    {
     "name": "stdout",
     "output_type": "stream",
     "text": [
      "training size:  3941\n",
      "validation size:  257\n",
      "test size:  459\n"
     ]
    }
   ],
   "source": [
    "import numpy as np\n",
    "\n",
    "all_ids = list(conv_ids.values())\n",
    "np.random.shuffle(all_ids)\n",
    "\n",
    "val_size = 50\n",
    "test_size = 100\n",
    "\n",
    "test_ids = all_ids[:test_size]\n",
    "val_ids = all_ids[test_size:test_size+val_size]\n",
    "train_ids = all_ids[test_size+val_size:]\n",
    "\n",
    "train = [d for d in data if d['id'] in train_ids]\n",
    "val = [d for d in data if d['id'] in val_ids]\n",
    "test = [d for d in data if d['id'] in test_ids]\n",
    "\n",
    "print(\"training size: \", len(train))\n",
    "print(\"validation size: \", len(val))\n",
    "print(\"test size: \", len(test))"
   ]
  },
  {
   "cell_type": "code",
   "execution_count": 15,
   "id": "dd570e45",
   "metadata": {},
   "outputs": [],
   "source": [
    "import json\n",
    "\n",
    "def write_jsonl(path, data):\n",
    "    with open(path, 'w') as f:\n",
    "        for ex in data:\n",
    "            f.write(json.dumps(ex) + \"\\n\")\n",
    "            \n",
    "            \n",
    "write_jsonl('data/train.json', train)\n",
    "write_jsonl('data/dev.json', val)\n",
    "write_jsonl('data/test.json', test)"
   ]
  },
  {
   "cell_type": "code",
   "execution_count": 16,
   "id": "2473cead-cb38-4af5-a754-1ade517f8fbc",
   "metadata": {},
   "outputs": [
    {
     "data": {
      "text/plain": [
       "{'dialog': ['Hi',\n",
       "  'Hello! How are you today?\\n',\n",
       "  'Ok I guess I do not know how to tell my husband that I am lonely and I want out of the marriage',\n",
       "  'Oh, that sure is a heavy subject and a heavy thing to be on your mind.',\n",
       "  'He is not one you can talk to he usually just brushes things off',\n",
       "  'So you have tried to discuss your loneliness with your husband before?',\n",
       "  'Yes he tells me it’s just in my head and I could just go out with him, but he drinks then to much so I do not like going out with him',\n",
       "  'I am sure that is frustrating! Does he drink at home as well or just when you go out?',\n",
       "  'Just when he goes out I do not go with him I do not drink and drive  And he hangs with some obnoxious people',\n",
       "  'Would a date night at home with take-out and a movie just the two of you be an option?',\n",
       "  'He would go to sleep , and then he thinks I am crazy he says we are no kids anymore that need to go on a date we are married ',\n",
       "  'Do you think you both might be open to talking to a marriage counselor?',\n",
       "  'I want that but I doubt he will talk he tells me he has no problems I have them, and all it does is I doubt myself I turned this situation in every direction and I just am not able to find a solution'],\n",
       " 'situation': 'Not sure how to explain that I want out of marriage',\n",
       " 'speakers': ['seeker',\n",
       "  'supporter',\n",
       "  'seeker',\n",
       "  'supporter',\n",
       "  'seeker',\n",
       "  'supporter',\n",
       "  'seeker',\n",
       "  'supporter',\n",
       "  'seeker',\n",
       "  'supporter',\n",
       "  'seeker',\n",
       "  'supporter',\n",
       "  'seeker'],\n",
       " 'responses': {'Avoid Judgment and Criticism': \"assistant\\n\\nIt's understandable that you're feeling stuck and doubting yourself, especially when it feels like you're shouldering the emotional weight of the relationship alone.\",\n",
       "  'Provide Different Perspectives': 'assistant\\n\\nWhat if we flip the focus from trying to fix the relationship to what you need to feel fulfilled and happy, regardless of the outcome with your husband?',\n",
       "  'Reframe Negative Thoughts': \"assistant\\n\\nInstead of thinking 'I'm the only one with problems', could you try reframing it to 'I'm recognizing my own needs and emotions, and that takes courage'? What if we focus on your strengths in acknowledging your feelings and seeking a solution, rather than doubting yourself?\",\n",
       "  'Chit Chat': 'assistant\\n\\nHow was your week otherwise, did anything nice happen or was it just this stuff on your mind?',\n",
       "  'unconditional': 'It can be really tough when one partner isn\\'t willing to acknowledge or work on issues in the relationship. It\\'s not uncommon for people to become defensive or dismissive when confronted with problems, especially if they feel like they\\'re being blamed or criticized.\\n\\nIt\\'s great that you\\'re recognizing your own feelings and needs, and that you\\'re taking the time to think about what you want and need from your relationship. That takes a lot of courage and self-awareness.\\n\\nSince you\\'ve already tried talking to your husband and he\\'s not receptive, it might be helpful to focus on what you can control, which is your own feelings and actions. Have you considered what you need to feel fulfilled and happy in your life, regardless of whether your husband is willing to work on the relationship or not?\\n\\nIt might also be helpful to remind yourself that your feelings and needs are valid, and that it\\'s okay to prioritize your own well-being. It\\'s not about being \"crazy\" or having \"problems,\" it\\'s about being honest with yourself and taking care of yourself.\\n\\nWhat do you think you need to feel happy and fulfilled in your life right now?'},\n",
       " 'prompts': {'Avoid Judgment and Criticism': '<|begin_of_text|><|start_header_id|>system<|end_header_id|>\\n\\nCutting Knowledge Date: December 2023\\nToday Date: 26 Jul 2024\\n\\nconversation history:\\nuser: Hi\\nassistant: Hello! How are you today?\\nuser: Ok I guess I do not know how to tell my husband that I am lonely and I want out of the marriage\\nassistant: Oh, that sure is a heavy subject and a heavy thing to be on your mind.\\nuser: He is not one you can talk to he usually just brushes things off\\nassistant: So you have tried to discuss your loneliness with your husband before?\\nuser: Yes he tells me it’s just in my head and I could just go out with him, but he drinks then to much so I do not like going out with him\\nassistant: I am sure that is frustrating! Does he drink at home as well or just when you go out?\\nuser: Just when he goes out I do not go with him I do not drink and drive  And he hangs with some obnoxious people\\nassistant: Would a date night at home with take-out and a movie just the two of you be an option?\\nuser: He would go to sleep , and then he thinks I am crazy he says we are no kids anymore that need to go on a date we are married\\nassistant: Do you think you both might be open to talking to a marriage counselor?\\n\\nYou are a helpful and caring friend. Your friend has come to you with some emotional problem. continue the conversation for one turn using \"Avoid Judgment and Criticism\" strategy (Description: This strategy focuses on providing support without expressing negative judgments or criticisms of the person\\'s thoughts, feelings, or actions. Examples: \\'It\\'s understandable that you felt that way in that situation.\\' \\'Everyone makes mistakes, and it\\'s okay to be imperfect.\\' \\'Your feelings are valid, and it\\'s okay to express them.\\') make your response short and to the point, only satisfying the given strategy. Respond in this format: assistant: <response><|eot_id|><|start_header_id|>user<|end_header_id|>\\n\\nI want that but I doubt he will talk he tells me he has no problems I have them, and all it does is I doubt myself I turned this situation in every direction and I just am not able to find a solution<|eot_id|>',\n",
       "  'Provide Different Perspectives': '<|begin_of_text|><|start_header_id|>system<|end_header_id|>\\n\\nCutting Knowledge Date: December 2023\\nToday Date: 26 Jul 2024\\n\\nconversation history:\\nuser: Hi\\nassistant: Hello! How are you today?\\nuser: Ok I guess I do not know how to tell my husband that I am lonely and I want out of the marriage\\nassistant: Oh, that sure is a heavy subject and a heavy thing to be on your mind.\\nuser: He is not one you can talk to he usually just brushes things off\\nassistant: So you have tried to discuss your loneliness with your husband before?\\nuser: Yes he tells me it’s just in my head and I could just go out with him, but he drinks then to much so I do not like going out with him\\nassistant: I am sure that is frustrating! Does he drink at home as well or just when you go out?\\nuser: Just when he goes out I do not go with him I do not drink and drive  And he hangs with some obnoxious people\\nassistant: Would a date night at home with take-out and a movie just the two of you be an option?\\nuser: He would go to sleep , and then he thinks I am crazy he says we are no kids anymore that need to go on a date we are married\\nassistant: Do you think you both might be open to talking to a marriage counselor?\\n\\nYou are a helpful and caring friend. Your friend has come to you with some emotional problem. continue the conversation for one turn using \"Provide Different Perspectives\" strategy (Description: Offering new viewpoints or ways of thinking about a situation to help broaden understanding and possibly reduce distress. Examples: \\'Have you considered looking at the situation from this angle?\\' \\'Sometimes, stepping back and viewing things differently can be helpful.\\' \\'What if we think about the potential positive outcomes of this scenario?\\') make your response short and to the point, only satisfying the given strategy. Respond in this format: assistant: <response><|eot_id|><|start_header_id|>user<|end_header_id|>\\n\\nI want that but I doubt he will talk he tells me he has no problems I have them, and all it does is I doubt myself I turned this situation in every direction and I just am not able to find a solution<|eot_id|>',\n",
       "  'Reframe Negative Thoughts': '<|begin_of_text|><|start_header_id|>system<|end_header_id|>\\n\\nCutting Knowledge Date: December 2023\\nToday Date: 26 Jul 2024\\n\\nconversation history:\\nuser: Hi\\nassistant: Hello! How are you today?\\nuser: Ok I guess I do not know how to tell my husband that I am lonely and I want out of the marriage\\nassistant: Oh, that sure is a heavy subject and a heavy thing to be on your mind.\\nuser: He is not one you can talk to he usually just brushes things off\\nassistant: So you have tried to discuss your loneliness with your husband before?\\nuser: Yes he tells me it’s just in my head and I could just go out with him, but he drinks then to much so I do not like going out with him\\nassistant: I am sure that is frustrating! Does he drink at home as well or just when you go out?\\nuser: Just when he goes out I do not go with him I do not drink and drive  And he hangs with some obnoxious people\\nassistant: Would a date night at home with take-out and a movie just the two of you be an option?\\nuser: He would go to sleep , and then he thinks I am crazy he says we are no kids anymore that need to go on a date we are married\\nassistant: Do you think you both might be open to talking to a marriage counselor?\\n\\nYou are a helpful and caring friend. Your friend has come to you with some emotional problem. continue the conversation for one turn using \"Reframe Negative Thoughts\" strategy (Description: Helping to shift negative or unhelpful thought patterns into more positive or realistic ones. Examples: \\'Instead of thinking of it as a failure, could we see it as a learning opportunity?\\' \\'What if we try to focus on what you can control in this situation?\\' \\'Let\\'s look for the strengths you\\'ve shown in dealing with this.\\') make your response short and to the point, only satisfying the given strategy. Respond in this format: assistant: <response><|eot_id|><|start_header_id|>user<|end_header_id|>\\n\\nI want that but I doubt he will talk he tells me he has no problems I have them, and all it does is I doubt myself I turned this situation in every direction and I just am not able to find a solution<|eot_id|>',\n",
       "  'Chit Chat': '<|begin_of_text|><|start_header_id|>system<|end_header_id|>\\n\\nCutting Knowledge Date: December 2023\\nToday Date: 26 Jul 2024\\n\\nconversation history:\\nuser: Hi\\nassistant: Hello! How are you today?\\nuser: Ok I guess I do not know how to tell my husband that I am lonely and I want out of the marriage\\nassistant: Oh, that sure is a heavy subject and a heavy thing to be on your mind.\\nuser: He is not one you can talk to he usually just brushes things off\\nassistant: So you have tried to discuss your loneliness with your husband before?\\nuser: Yes he tells me it’s just in my head and I could just go out with him, but he drinks then to much so I do not like going out with him\\nassistant: I am sure that is frustrating! Does he drink at home as well or just when you go out?\\nuser: Just when he goes out I do not go with him I do not drink and drive  And he hangs with some obnoxious people\\nassistant: Would a date night at home with take-out and a movie just the two of you be an option?\\nuser: He would go to sleep , and then he thinks I am crazy he says we are no kids anymore that need to go on a date we are married\\nassistant: Do you think you both might be open to talking to a marriage counselor?\\n\\nYou are a helpful and caring friend. Your friend has come to you with some emotional problem. continue the conversation for one turn using \"Chit Chat\" strategy (Description: Engaging in light, casual conversation to build rapport and provide a sense of normalcy and comfort. Examples: \\'How\\'s your day going so far?\\' \\'Did you see that funny movie that came out recently?\\' \\'I love this weather we\\'re having. Do you enjoy outdoor activities?\\') make your response short and to the point, only satisfying the given strategy. Respond in this format: assistant: <response><|eot_id|><|start_header_id|>user<|end_header_id|>\\n\\nI want that but I doubt he will talk he tells me he has no problems I have them, and all it does is I doubt myself I turned this situation in every direction and I just am not able to find a solution<|eot_id|>'},\n",
       " 'id': '65a40af9-69c3-4b55-a727-90aa1a50972f'}"
      ]
     },
     "execution_count": 16,
     "metadata": {},
     "output_type": "execute_result"
    }
   ],
   "source": [
    "train[0]"
   ]
  },
  {
   "cell_type": "markdown",
   "id": "e9f67618-08df-4b09-84bb-9da66d9a42b3",
   "metadata": {},
   "source": [
    "# Get statistics of the data"
   ]
  },
  {
   "cell_type": "code",
   "execution_count": 13,
   "id": "b8d91184-0826-40ce-9aec-6d03f43a7d90",
   "metadata": {},
   "outputs": [
    {
     "name": "stdout",
     "output_type": "stream",
     "text": [
      "average dialog len:  11.773459308567748\n",
      "min dialog len:  5\n",
      "max dialog len:  23\n",
      "number of examples:  4657\n",
      "[('unconditional', 4657), ('Affirmation', 1464), ('Emotional Validation', 1444), ('Promote Self-Care Practices', 1438), ('Reframe Negative Thoughts', 1421), ('Avoid Judgment and Criticism', 1414), ('Offer Hope', 1402), ('Share Information', 1400), ('Normalize Experiences', 1398), ('Clarification', 1395), ('Provide Different Perspectives', 1389), ('Reflective Statements', 1387), ('Collaborative Planning', 1382), ('Suggest Options', 1379), ('Stress Management', 1341), ('Chit Chat', 1338)]\n",
      "25649\n"
     ]
    }
   ],
   "source": [
    "import numpy as np\n",
    "from collections import Counter\n",
    "\n",
    "\n",
    "def get_statistics(ds):\n",
    "    dlens = [len(x['dialog']) for x in ds]\n",
    "    print(\"average dialog len: \", np.mean(dlens))\n",
    "    print(\"min dialog len: \", np.min(dlens))\n",
    "    print(\"max dialog len: \", np.max(dlens))\n",
    "\n",
    "    print(\"number of examples: \", len(ds))\n",
    "\n",
    "    scnt = Counter()\n",
    "    all_cnt = 0\n",
    "    for x in ds:\n",
    "        scnt.update(list(x['responses'].keys()))\n",
    "        all_cnt += len(list(x['responses'].keys()))\n",
    "    print(scnt.most_common(20))\n",
    "    print(all_cnt)\n",
    "        \n",
    "    \n",
    "\n",
    "get_statistics(data)"
   ]
  },
  {
   "cell_type": "markdown",
   "id": "dbaf5ce7",
   "metadata": {},
   "source": [
    "# prepare data in jsonl and clean format for uploading to HF"
   ]
  },
  {
   "cell_type": "code",
   "execution_count": null,
   "id": "d66ac5f0",
   "metadata": {},
   "outputs": [],
   "source": [
    "def load_jsonl(path):\n",
    "    data = []\n",
    "    with open(path, 'r') as f:\n",
    "        for line in f:\n",
    "            data.append(json.loads(line))\n",
    "            \n",
    "    return data\n",
    "\n",
    "def write_jsonl(path, data):\n",
    "    with open(path, 'w') as f:\n",
    "        for d in data:\n",
    "            f.write(json.dumps(d) + \"\\n\")\n",
    "            \n",
    "\n",
    "def clean_and_reformat(input_path, output_path):\n",
    "    data = load_jsonl(\"data/train.json\")\n",
    "    \n",
    "    for d in data:\n",
    "        for s, r in d['responses'].items():\n",
    "            if r.startswith(\"assistant\")"
   ]
  }
 ],
 "metadata": {
  "kernelspec": {
   "display_name": "Python 3 (ipykernel)",
   "language": "python",
   "name": "python3"
  },
  "language_info": {
   "codemirror_mode": {
    "name": "ipython",
    "version": 3
   },
   "file_extension": ".py",
   "mimetype": "text/x-python",
   "name": "python",
   "nbconvert_exporter": "python",
   "pygments_lexer": "ipython3",
   "version": "3.10.11"
  },
  "toc": {
   "base_numbering": 1,
   "nav_menu": {},
   "number_sections": true,
   "sideBar": true,
   "skip_h1_title": false,
   "title_cell": "Table of Contents",
   "title_sidebar": "Contents",
   "toc_cell": false,
   "toc_position": {},
   "toc_section_display": true,
   "toc_window_display": false
  }
 },
 "nbformat": 4,
 "nbformat_minor": 5
}
