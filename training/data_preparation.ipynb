{
 "cells": [
  {
   "cell_type": "markdown",
   "id": "e02578bc",
   "metadata": {
    "collapsed": true,
    "jupyter": {
     "outputs_hidden": true
    }
   },
   "source": [
    "# Load dataset"
   ]
  },
  {
   "cell_type": "code",
   "execution_count": 1,
   "id": "42ff7a79",
   "metadata": {},
   "outputs": [
    {
     "name": "stdout",
     "output_type": "stream",
     "text": [
      "7910\n"
     ]
    }
   ],
   "source": [
    "from glob import glob\n",
    "import os\n",
    "import json \n",
    "\n",
    "path = './data/extended_esc_llama31_70b_v2.json'\n",
    "\n",
    "data = []\n",
    "with open(path, 'r') as f:\n",
    "    for line in f:\n",
    "        data.append(json.loads(line))\n",
    "        \n",
    "\n",
    "print(len(data))"
   ]
  },
  {
   "cell_type": "code",
   "execution_count": 2,
   "id": "ff415f56",
   "metadata": {},
   "outputs": [
    {
     "name": "stdout",
     "output_type": "stream",
     "text": [
      "5\n"
     ]
    }
   ],
   "source": [
    "lens = [len(x['dialog']) for x in data]\n",
    "\n",
    "print(min(lens))\n",
    "\n",
    "min_dialog_turns = min(lens)\n",
    "    "
   ]
  },
  {
   "cell_type": "markdown",
   "id": "d50b74d4",
   "metadata": {},
   "source": [
    "# Process conversations and add an id to them"
   ]
  },
  {
   "cell_type": "code",
   "execution_count": 3,
   "id": "da8b6069",
   "metadata": {},
   "outputs": [],
   "source": [
    "from uuid import uuid4\n",
    "\n",
    "conv_ids = {}\n",
    "\n",
    "for ex in data:\n",
    "    conv_str = '_'.join(ex['dialog'][:min_dialog_turns])\n",
    "    if conv_str not in conv_ids:\n",
    "        conv_ids[conv_str] = str(uuid4())\n",
    "        \n",
    "    ex['id'] = conv_ids[conv_str]"
   ]
  },
  {
   "cell_type": "code",
   "execution_count": 4,
   "id": "d9cdf124",
   "metadata": {},
   "outputs": [
    {
     "name": "stdout",
     "output_type": "stream",
     "text": [
      "total conversations: 1297\n"
     ]
    }
   ],
   "source": [
    "print(\"total conversations:\", len(conv_ids))"
   ]
  },
  {
   "cell_type": "markdown",
   "id": "e24d1df4",
   "metadata": {},
   "source": [
    "# split across conversations for training and test"
   ]
  },
  {
   "cell_type": "code",
   "execution_count": 5,
   "id": "932cda1e",
   "metadata": {},
   "outputs": [
    {
     "name": "stdout",
     "output_type": "stream",
     "text": [
      "training size:  6671\n",
      "validation size:  604\n",
      "test size:  635\n"
     ]
    }
   ],
   "source": [
    "import numpy as np\n",
    "\n",
    "all_ids = list(conv_ids.values())\n",
    "np.random.shuffle(all_ids)\n",
    "\n",
    "val_size = 100\n",
    "test_size = 100\n",
    "\n",
    "test_ids = all_ids[:test_size]\n",
    "val_ids = all_ids[test_size:test_size+val_size]\n",
    "train_ids = all_ids[test_size+val_size:]\n",
    "\n",
    "train = [d for d in data if d['id'] in train_ids]\n",
    "val = [d for d in data if d['id'] in val_ids]\n",
    "test = [d for d in data if d['id'] in test_ids]\n",
    "\n",
    "print(\"training size: \", len(train))\n",
    "print(\"validation size: \", len(val))\n",
    "print(\"test size: \", len(test))"
   ]
  },
  {
   "cell_type": "code",
   "execution_count": 6,
   "id": "dd570e45",
   "metadata": {},
   "outputs": [],
   "source": [
    "import json\n",
    "\n",
    "def write_jsonl(path, data):\n",
    "    with open(path, 'w') as f:\n",
    "        for ex in data:\n",
    "            f.write(json.dumps(ex) + \"\\n\")\n",
    "            \n",
    "            \n",
    "write_jsonl('data/train.json', train)\n",
    "write_jsonl('data/dev.json', val)\n",
    "write_jsonl('data/test.json', test)"
   ]
  },
  {
   "cell_type": "code",
   "execution_count": 7,
   "id": "2473cead-cb38-4af5-a754-1ade517f8fbc",
   "metadata": {},
   "outputs": [
    {
     "data": {
      "text/plain": [
       "{'dialog': ['Hello\\n',\n",
       "  'Hello, what would you like to talk about?',\n",
       "  'I am having a lot of anxiety about quitting my current job. It is too stressful but pays well\\n',\n",
       "  'What makes your job stressful for you?',\n",
       "  'I have to deal with many people in hard financial situations and it is upsetting \\n'],\n",
       " 'situation': 'I hate my job but I am scared to quit and seek a new career.',\n",
       " 'speakers': ['seeker', 'supporter', 'seeker', 'supporter', 'seeker'],\n",
       " 'responses': {'Affirmation': 'Your compassion and empathy for those struggling financially are truly admirable, and it takes a lot of emotional strength to navigate such challenging situations on a daily basis.',\n",
       "  'Clarification': \"So, it's the emotional toll of interacting with clients who are struggling financially that's causing you stress, rather than just the workload itself?\",\n",
       "  'Collaborative Planning': \"Let's brainstorm some ways you could set boundaries or self-care strategies to help you cope with the emotional demands of your job, or even explore alternative roles that might be less stressful but still utilize your skills.\",\n",
       "  'Suggest Options': \"It can be really emotionally draining to deal with people's financial struggles on a daily basis. One option might be to consider a role within the same industry that focuses more on prevention or education, rather than direct crisis management. Another option could be to explore jobs in related fields that still utilize your skills, but with less emotional toll.\",\n",
       "  'Chit Chat': \"That can be really tough, it's great that you're compassionate and care about the people you work with. By the way, do you have any fun plans for the weekend to take your mind off things?\",\n",
       "  'unconditional': \"Dealing with people who are struggling financially can be emotionally draining and take a toll on your mental health. It's completely understandable that you're feeling anxious about your job.\\n\\nIt's great that you're recognizing the impact this job is having on you, and considering making a change. However, the high pay can make it a difficult decision.\\n\\nCan you tell me more about what's holding you back from quitting? Is it just the financial aspect, or are there other factors at play?\"},\n",
       " 'prompts': {'Affirmation': '<|begin_of_text|><|start_header_id|>system<|end_header_id|>\\n\\nCutting Knowledge Date: December 2023\\nToday Date: 26 Jul 2024\\n\\nconversation history:\\nuser: Hello\\nassistant: Hello, what would you like to talk about?\\nuser: I am having a lot of anxiety about quitting my current job. It is too stressful but pays well\\nassistant: What makes your job stressful for you?\\n\\nYou are a helpful and caring friend. Your friend has come to you with some emotional problem. continue the conversation for one turn using \"Affirmation\" strategy (Description: This involves acknowledging and positively reinforcing an individual\\'s strengths, feelings, or actions. Examples: \\'You\\'ve shown incredible resilience in facing these challenges.\\' \\'I admire your dedication to improving your situation.\\' \\'Your ability to stay hopeful in tough times is truly commendable.\\') make your response short and to the point, only satisfying the given strategy. Respond in this format: assistant: <response><|eot_id|><|start_header_id|>user<|end_header_id|>\\n\\nI have to deal with many people in hard financial situations and it is upsetting<|eot_id|><|start_header_id|>assistant<|end_header_id|>\\n\\n',\n",
       "  'Clarification': '<|begin_of_text|><|start_header_id|>system<|end_header_id|>\\n\\nCutting Knowledge Date: December 2023\\nToday Date: 26 Jul 2024\\n\\nconversation history:\\nuser: Hello\\nassistant: Hello, what would you like to talk about?\\nuser: I am having a lot of anxiety about quitting my current job. It is too stressful but pays well\\nassistant: What makes your job stressful for you?\\n\\nYou are a helpful and caring friend. Your friend has come to you with some emotional problem. continue the conversation for one turn using \"Clarification\" strategy (Description: This entails asking questions or restating what was said to ensure clear understanding of the person\\'s feelings or situation. Examples: \\'Could you explain a bit more about what you mean by that?\\' \\'So, what you\\'re saying is that you feel overwhelmed by the workload?\\' \\'I want to make sure I understand; you\\'re feeling anxious about the upcoming event, right?\\') make your response short and to the point, only satisfying the given strategy. Respond in this format: assistant: <response><|eot_id|><|start_header_id|>user<|end_header_id|>\\n\\nI have to deal with many people in hard financial situations and it is upsetting<|eot_id|><|start_header_id|>assistant<|end_header_id|>\\n\\n',\n",
       "  'Collaborative Planning': '<|begin_of_text|><|start_header_id|>system<|end_header_id|>\\n\\nCutting Knowledge Date: December 2023\\nToday Date: 26 Jul 2024\\n\\nconversation history:\\nuser: Hello\\nassistant: Hello, what would you like to talk about?\\nuser: I am having a lot of anxiety about quitting my current job. It is too stressful but pays well\\nassistant: What makes your job stressful for you?\\n\\nYou are a helpful and caring friend. Your friend has come to you with some emotional problem. continue the conversation for one turn using \"Collaborative Planning\" strategy (Description: This involves working together to develop strategies or plans to address specific issues or challenges. Examples: \\'Let\\'s brainstorm some strategies that could help you manage this stress.\\' \\'We can work together to come up with a plan that feels comfortable for you.\\' \\'How about we outline some steps you can take to approach this problem?\\') make your response short and to the point, only satisfying the given strategy. Respond in this format: assistant: <response><|eot_id|><|start_header_id|>user<|end_header_id|>\\n\\nI have to deal with many people in hard financial situations and it is upsetting<|eot_id|><|start_header_id|>assistant<|end_header_id|>\\n\\n',\n",
       "  'Suggest Options': '<|begin_of_text|><|start_header_id|>system<|end_header_id|>\\n\\nCutting Knowledge Date: December 2023\\nToday Date: 26 Jul 2024\\n\\nconversation history:\\nuser: Hello\\nassistant: Hello, what would you like to talk about?\\nuser: I am having a lot of anxiety about quitting my current job. It is too stressful but pays well\\nassistant: What makes your job stressful for you?\\n\\nYou are a helpful and caring friend. Your friend has come to you with some emotional problem. continue the conversation for one turn using \"Suggest Options\" strategy (Description: Presenting various possibilities or alternatives that the person might consider in their situation. Examples: \\'One option might be to talk to someone you trust about what you\\'re going through.\\' \\'Have you thought about joining a support group for this issue?\\' \\'Maybe trying a new approach to this problem could yield different results.\\') make your response short and to the point, only satisfying the given strategy. Respond in this format: assistant: <response><|eot_id|><|start_header_id|>user<|end_header_id|>\\n\\nI have to deal with many people in hard financial situations and it is upsetting<|eot_id|><|start_header_id|>assistant<|end_header_id|>\\n\\n',\n",
       "  'Chit Chat': '<|begin_of_text|><|start_header_id|>system<|end_header_id|>\\n\\nCutting Knowledge Date: December 2023\\nToday Date: 26 Jul 2024\\n\\nconversation history:\\nuser: Hello\\nassistant: Hello, what would you like to talk about?\\nuser: I am having a lot of anxiety about quitting my current job. It is too stressful but pays well\\nassistant: What makes your job stressful for you?\\n\\nYou are a helpful and caring friend. Your friend has come to you with some emotional problem. continue the conversation for one turn using \"Chit Chat\" strategy (Description: Engaging in light, casual conversation to build rapport and provide a sense of normalcy and comfort. Examples: \\'How\\'s your day going so far?\\' \\'Did you see that funny movie that came out recently?\\' \\'I love this weather we\\'re having. Do you enjoy outdoor activities?\\') make your response short and to the point, only satisfying the given strategy. Respond in this format: assistant: <response><|eot_id|><|start_header_id|>user<|end_header_id|>\\n\\nI have to deal with many people in hard financial situations and it is upsetting<|eot_id|><|start_header_id|>assistant<|end_header_id|>\\n\\n'},\n",
       " 'id': '8c8377eb-40c0-4edf-b176-d7f8f1b13140'}"
      ]
     },
     "execution_count": 7,
     "metadata": {},
     "output_type": "execute_result"
    }
   ],
   "source": [
    "train[0]"
   ]
  },
  {
   "cell_type": "markdown",
   "id": "e9f67618-08df-4b09-84bb-9da66d9a42b3",
   "metadata": {},
   "source": [
    "# Get statistics of the data"
   ]
  },
  {
   "cell_type": "code",
   "execution_count": 8,
   "id": "b8d91184-0826-40ce-9aec-6d03f43a7d90",
   "metadata": {},
   "outputs": [
    {
     "name": "stdout",
     "output_type": "stream",
     "text": [
      "average dialog len:  11.765613147914033\n",
      "min dialog len:  5\n",
      "max dialog len:  23\n",
      "number of examples:  7910\n",
      "[('unconditional', 7910), ('Suggest Options', 2451), ('Affirmation', 2437), ('Clarification', 2404), ('Share Information', 2404), ('Offer Hope', 2397), ('Normalize Experiences', 2393), ('Stress Management', 2370), ('Reframe Negative Thoughts', 2368), ('Emotional Validation', 2367), ('Promote Self-Care Practices', 2340), ('Avoid Judgment and Criticism', 2337), ('Collaborative Planning', 2323), ('Provide Different Perspectives', 2323), ('Reflective Statements', 2291), ('Chit Chat', 2284)]\n",
      "43399\n"
     ]
    }
   ],
   "source": [
    "import numpy as np\n",
    "from collections import Counter\n",
    "\n",
    "\n",
    "def get_statistics(ds):\n",
    "    dlens = [len(x['dialog']) for x in ds]\n",
    "    print(\"average dialog len: \", np.mean(dlens))\n",
    "    print(\"min dialog len: \", np.min(dlens))\n",
    "    print(\"max dialog len: \", np.max(dlens))\n",
    "\n",
    "    print(\"number of examples: \", len(ds))\n",
    "\n",
    "    scnt = Counter()\n",
    "    all_cnt = 0\n",
    "    for x in ds:\n",
    "        scnt.update(list(x['responses'].keys()))\n",
    "        all_cnt += len(list(x['responses'].keys()))\n",
    "    print(scnt.most_common(20))\n",
    "    print(all_cnt)\n",
    "        \n",
    "    \n",
    "\n",
    "get_statistics(data)"
   ]
  },
  {
   "cell_type": "markdown",
   "id": "dbaf5ce7",
   "metadata": {},
   "source": [
    "# prepare data in jsonl and clean format for uploading to HF"
   ]
  },
  {
   "cell_type": "code",
   "execution_count": null,
   "id": "d66ac5f0",
   "metadata": {},
   "outputs": [],
   "source": [
    "def load_jsonl(path):\n",
    "    data = []\n",
    "    with open(path, 'r') as f:\n",
    "        for line in f:\n",
    "            data.append(json.loads(line))\n",
    "            \n",
    "    return data\n",
    "\n",
    "def write_jsonl(path, data):\n",
    "    with open(path, 'w') as f:\n",
    "        for d in data:\n",
    "            f.write(json.dumps(d) + \"\\n\")\n",
    "            \n",
    "\n",
    "def clean_and_reformat(input_path, output_path):\n",
    "    data = load_jsonl(\"data/train.json\")\n",
    "    \n",
    "    for d in data:\n",
    "        for s, r in d['responses'].items():\n",
    "            if r.startswith(\"assistant\")"
   ]
  }
 ],
 "metadata": {
  "kernelspec": {
   "display_name": "Python 3 (ipykernel)",
   "language": "python",
   "name": "python3"
  },
  "language_info": {
   "codemirror_mode": {
    "name": "ipython",
    "version": 3
   },
   "file_extension": ".py",
   "mimetype": "text/x-python",
   "name": "python",
   "nbconvert_exporter": "python",
   "pygments_lexer": "ipython3",
   "version": "3.10.13"
  },
  "toc": {
   "base_numbering": 1,
   "nav_menu": {},
   "number_sections": true,
   "sideBar": true,
   "skip_h1_title": false,
   "title_cell": "Table of Contents",
   "title_sidebar": "Contents",
   "toc_cell": false,
   "toc_position": {},
   "toc_section_display": true,
   "toc_window_display": false
  }
 },
 "nbformat": 4,
 "nbformat_minor": 5
}
