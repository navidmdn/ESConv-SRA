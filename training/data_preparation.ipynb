{
 "cells": [
  {
   "cell_type": "markdown",
   "id": "6642bfa5",
   "metadata": {
    "collapsed": true
   },
   "source": [
    "# Load dataset"
   ]
  },
  {
   "cell_type": "code",
   "execution_count": 20,
   "id": "71b50c35",
   "metadata": {},
   "outputs": [
    {
     "name": "stdout",
     "output_type": "stream",
     "text": [
      "25\n"
     ]
    }
   ],
   "source": [
    "from glob import glob\n",
    "import os\n",
    "import json \n",
    "\n",
    "path = '../prompting/outputs/mistral7b_c1_hf_partial/'\n",
    "dialog_files = glob(os.path.join(path, '*.json'))\n",
    "\n",
    "data = []\n",
    "for p in dialog_files:\n",
    "    with open(p, 'r') as f:\n",
    "        data.append(json.loads(f.read()))\n",
    "        \n",
    "\n",
    "print(len(data))"
   ]
  },
  {
   "cell_type": "code",
   "execution_count": 21,
   "id": "91bd0231",
   "metadata": {},
   "outputs": [
    {
     "name": "stdout",
     "output_type": "stream",
     "text": [
      "5\n"
     ]
    }
   ],
   "source": [
    "lens = [len(x['dialog']) for x in data]\n",
    "\n",
    "print(min(lens))\n",
    "\n",
    "min_dialog_turns = min(lens)\n",
    "    "
   ]
  },
  {
   "cell_type": "markdown",
   "id": "b87d3d92",
   "metadata": {},
   "source": [
    "# Process conversations and add an id to them"
   ]
  },
  {
   "cell_type": "code",
   "execution_count": 29,
   "id": "da6d8ce7",
   "metadata": {},
   "outputs": [],
   "source": [
    "from uuid import uuid4\n",
    "\n",
    "conv_ids = {}\n",
    "\n",
    "for ex in data:\n",
    "    conv_str = '_'.join(ex['dialog'][:min_dialog_turns])\n",
    "    if conv_str not in conv_ids:\n",
    "        conv_ids[conv_str] = str(uuid4())\n",
    "        \n",
    "    ex['id'] = conv_ids[conv_str]"
   ]
  },
  {
   "cell_type": "code",
   "execution_count": 30,
   "id": "c23631e3",
   "metadata": {},
   "outputs": [
    {
     "name": "stdout",
     "output_type": "stream",
     "text": [
      "total conversations: 25\n"
     ]
    }
   ],
   "source": [
    "print(\"total conversations:\", len(conv_ids))"
   ]
  },
  {
   "cell_type": "markdown",
   "id": "d7be7521",
   "metadata": {},
   "source": [
    "# split across conversations for training and test"
   ]
  },
  {
   "cell_type": "code",
   "execution_count": 31,
   "id": "7e803646",
   "metadata": {},
   "outputs": [
    {
     "name": "stdout",
     "output_type": "stream",
     "text": [
      "training size:  15\n",
      "validation size:  5\n",
      "test size:  5\n"
     ]
    }
   ],
   "source": [
    "import numpy as np\n",
    "\n",
    "all_ids = list(conv_ids.values())\n",
    "np.random.shuffle(all_ids)\n",
    "\n",
    "val_size = 5\n",
    "test_size = 5\n",
    "\n",
    "test_ids = all_ids[:test_size]\n",
    "val_ids = all_ids[test_size:test_size+val_size]\n",
    "train_ids = all_ids[test_size+val_size:]\n",
    "\n",
    "train = [d for d in data if d['id'] in train_ids]\n",
    "val = [d for d in data if d['id'] in val_ids]\n",
    "test = [d for d in data if d['id'] in test_ids]\n",
    "\n",
    "print(\"training size: \", len(train))\n",
    "print(\"validation size: \", len(val))\n",
    "print(\"test size: \", len(test))"
   ]
  },
  {
   "cell_type": "code",
   "execution_count": 32,
   "id": "760b1b55",
   "metadata": {},
   "outputs": [],
   "source": [
    "import json\n",
    "\n",
    "def write_jsonl(path, data):\n",
    "    with open(path, 'w') as f:\n",
    "        for ex in data:\n",
    "            f.write(json.dumps(ex) + \"\\n\")\n",
    "            \n",
    "            \n",
    "write_jsonl('data/train.json', train)\n",
    "write_jsonl('data/val.json', val)\n",
    "write_jsonl('data/test.json', test)"
   ]
  },
  {
   "cell_type": "code",
   "execution_count": null,
   "id": "9ab4358c",
   "metadata": {},
   "outputs": [],
   "source": []
  }
 ],
 "metadata": {
  "kernelspec": {
   "display_name": "Python 3 (ipykernel)",
   "language": "python",
   "name": "python3"
  },
  "language_info": {
   "codemirror_mode": {
    "name": "ipython",
    "version": 3
   },
   "file_extension": ".py",
   "mimetype": "text/x-python",
   "name": "python",
   "nbconvert_exporter": "python",
   "pygments_lexer": "ipython3",
   "version": "3.10.13"
  },
  "toc": {
   "base_numbering": 1,
   "nav_menu": {},
   "number_sections": true,
   "sideBar": true,
   "skip_h1_title": false,
   "title_cell": "Table of Contents",
   "title_sidebar": "Contents",
   "toc_cell": false,
   "toc_position": {},
   "toc_section_display": true,
   "toc_window_display": false
  }
 },
 "nbformat": 4,
 "nbformat_minor": 5
}
